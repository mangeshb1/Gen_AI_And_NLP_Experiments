{
  "nbformat": 4,
  "nbformat_minor": 0,
  "metadata": {
    "colab": {
      "provenance": [],
      "authorship_tag": "ABX9TyO0EHmE+Et6A8u+XLgwJJjm",
      "include_colab_link": true
    },
    "kernelspec": {
      "name": "python3",
      "display_name": "Python 3"
    },
    "language_info": {
      "name": "python"
    },
    "widgets": {
      "application/vnd.jupyter.widget-state+json": {
        "a0664d4764554afaa186c000a7da5970": {
          "model_module": "@jupyter-widgets/controls",
          "model_name": "HBoxModel",
          "model_module_version": "1.5.0",
          "state": {
            "_dom_classes": [],
            "_model_module": "@jupyter-widgets/controls",
            "_model_module_version": "1.5.0",
            "_model_name": "HBoxModel",
            "_view_count": null,
            "_view_module": "@jupyter-widgets/controls",
            "_view_module_version": "1.5.0",
            "_view_name": "HBoxView",
            "box_style": "",
            "children": [
              "IPY_MODEL_abddb43fdc0248db838329129e6e63fa",
              "IPY_MODEL_6846d7d5d29446778a915bdb9e753fec",
              "IPY_MODEL_00962d1b5c334a3cbf2e0cbbc781796d"
            ],
            "layout": "IPY_MODEL_0ac01e09ba364a5fbae98f038d244710"
          }
        },
        "abddb43fdc0248db838329129e6e63fa": {
          "model_module": "@jupyter-widgets/controls",
          "model_name": "HTMLModel",
          "model_module_version": "1.5.0",
          "state": {
            "_dom_classes": [],
            "_model_module": "@jupyter-widgets/controls",
            "_model_module_version": "1.5.0",
            "_model_name": "HTMLModel",
            "_view_count": null,
            "_view_module": "@jupyter-widgets/controls",
            "_view_module_version": "1.5.0",
            "_view_name": "HTMLView",
            "description": "",
            "description_tooltip": null,
            "layout": "IPY_MODEL_5356ac9d600049ff97f0218577b6c835",
            "placeholder": "​",
            "style": "IPY_MODEL_477d0809f93643e4b0f41374d56d179e",
            "value": "Uploading the dataset shards: 100%"
          }
        },
        "6846d7d5d29446778a915bdb9e753fec": {
          "model_module": "@jupyter-widgets/controls",
          "model_name": "FloatProgressModel",
          "model_module_version": "1.5.0",
          "state": {
            "_dom_classes": [],
            "_model_module": "@jupyter-widgets/controls",
            "_model_module_version": "1.5.0",
            "_model_name": "FloatProgressModel",
            "_view_count": null,
            "_view_module": "@jupyter-widgets/controls",
            "_view_module_version": "1.5.0",
            "_view_name": "ProgressView",
            "bar_style": "success",
            "description": "",
            "description_tooltip": null,
            "layout": "IPY_MODEL_0b0962cc2d304c48b5c38e7eaa5fd827",
            "max": 1,
            "min": 0,
            "orientation": "horizontal",
            "style": "IPY_MODEL_0a4600b66fc34cf39de6c5ae9498e5f7",
            "value": 1
          }
        },
        "00962d1b5c334a3cbf2e0cbbc781796d": {
          "model_module": "@jupyter-widgets/controls",
          "model_name": "HTMLModel",
          "model_module_version": "1.5.0",
          "state": {
            "_dom_classes": [],
            "_model_module": "@jupyter-widgets/controls",
            "_model_module_version": "1.5.0",
            "_model_name": "HTMLModel",
            "_view_count": null,
            "_view_module": "@jupyter-widgets/controls",
            "_view_module_version": "1.5.0",
            "_view_name": "HTMLView",
            "description": "",
            "description_tooltip": null,
            "layout": "IPY_MODEL_21f64ea54fb74a4c9957c0c7bef89748",
            "placeholder": "​",
            "style": "IPY_MODEL_225233d6e6c243b8895c29c775c3460a",
            "value": " 1/1 [00:00&lt;00:00,  1.76it/s]"
          }
        },
        "0ac01e09ba364a5fbae98f038d244710": {
          "model_module": "@jupyter-widgets/base",
          "model_name": "LayoutModel",
          "model_module_version": "1.2.0",
          "state": {
            "_model_module": "@jupyter-widgets/base",
            "_model_module_version": "1.2.0",
            "_model_name": "LayoutModel",
            "_view_count": null,
            "_view_module": "@jupyter-widgets/base",
            "_view_module_version": "1.2.0",
            "_view_name": "LayoutView",
            "align_content": null,
            "align_items": null,
            "align_self": null,
            "border": null,
            "bottom": null,
            "display": null,
            "flex": null,
            "flex_flow": null,
            "grid_area": null,
            "grid_auto_columns": null,
            "grid_auto_flow": null,
            "grid_auto_rows": null,
            "grid_column": null,
            "grid_gap": null,
            "grid_row": null,
            "grid_template_areas": null,
            "grid_template_columns": null,
            "grid_template_rows": null,
            "height": null,
            "justify_content": null,
            "justify_items": null,
            "left": null,
            "margin": null,
            "max_height": null,
            "max_width": null,
            "min_height": null,
            "min_width": null,
            "object_fit": null,
            "object_position": null,
            "order": null,
            "overflow": null,
            "overflow_x": null,
            "overflow_y": null,
            "padding": null,
            "right": null,
            "top": null,
            "visibility": null,
            "width": null
          }
        },
        "5356ac9d600049ff97f0218577b6c835": {
          "model_module": "@jupyter-widgets/base",
          "model_name": "LayoutModel",
          "model_module_version": "1.2.0",
          "state": {
            "_model_module": "@jupyter-widgets/base",
            "_model_module_version": "1.2.0",
            "_model_name": "LayoutModel",
            "_view_count": null,
            "_view_module": "@jupyter-widgets/base",
            "_view_module_version": "1.2.0",
            "_view_name": "LayoutView",
            "align_content": null,
            "align_items": null,
            "align_self": null,
            "border": null,
            "bottom": null,
            "display": null,
            "flex": null,
            "flex_flow": null,
            "grid_area": null,
            "grid_auto_columns": null,
            "grid_auto_flow": null,
            "grid_auto_rows": null,
            "grid_column": null,
            "grid_gap": null,
            "grid_row": null,
            "grid_template_areas": null,
            "grid_template_columns": null,
            "grid_template_rows": null,
            "height": null,
            "justify_content": null,
            "justify_items": null,
            "left": null,
            "margin": null,
            "max_height": null,
            "max_width": null,
            "min_height": null,
            "min_width": null,
            "object_fit": null,
            "object_position": null,
            "order": null,
            "overflow": null,
            "overflow_x": null,
            "overflow_y": null,
            "padding": null,
            "right": null,
            "top": null,
            "visibility": null,
            "width": null
          }
        },
        "477d0809f93643e4b0f41374d56d179e": {
          "model_module": "@jupyter-widgets/controls",
          "model_name": "DescriptionStyleModel",
          "model_module_version": "1.5.0",
          "state": {
            "_model_module": "@jupyter-widgets/controls",
            "_model_module_version": "1.5.0",
            "_model_name": "DescriptionStyleModel",
            "_view_count": null,
            "_view_module": "@jupyter-widgets/base",
            "_view_module_version": "1.2.0",
            "_view_name": "StyleView",
            "description_width": ""
          }
        },
        "0b0962cc2d304c48b5c38e7eaa5fd827": {
          "model_module": "@jupyter-widgets/base",
          "model_name": "LayoutModel",
          "model_module_version": "1.2.0",
          "state": {
            "_model_module": "@jupyter-widgets/base",
            "_model_module_version": "1.2.0",
            "_model_name": "LayoutModel",
            "_view_count": null,
            "_view_module": "@jupyter-widgets/base",
            "_view_module_version": "1.2.0",
            "_view_name": "LayoutView",
            "align_content": null,
            "align_items": null,
            "align_self": null,
            "border": null,
            "bottom": null,
            "display": null,
            "flex": null,
            "flex_flow": null,
            "grid_area": null,
            "grid_auto_columns": null,
            "grid_auto_flow": null,
            "grid_auto_rows": null,
            "grid_column": null,
            "grid_gap": null,
            "grid_row": null,
            "grid_template_areas": null,
            "grid_template_columns": null,
            "grid_template_rows": null,
            "height": null,
            "justify_content": null,
            "justify_items": null,
            "left": null,
            "margin": null,
            "max_height": null,
            "max_width": null,
            "min_height": null,
            "min_width": null,
            "object_fit": null,
            "object_position": null,
            "order": null,
            "overflow": null,
            "overflow_x": null,
            "overflow_y": null,
            "padding": null,
            "right": null,
            "top": null,
            "visibility": null,
            "width": null
          }
        },
        "0a4600b66fc34cf39de6c5ae9498e5f7": {
          "model_module": "@jupyter-widgets/controls",
          "model_name": "ProgressStyleModel",
          "model_module_version": "1.5.0",
          "state": {
            "_model_module": "@jupyter-widgets/controls",
            "_model_module_version": "1.5.0",
            "_model_name": "ProgressStyleModel",
            "_view_count": null,
            "_view_module": "@jupyter-widgets/base",
            "_view_module_version": "1.2.0",
            "_view_name": "StyleView",
            "bar_color": null,
            "description_width": ""
          }
        },
        "21f64ea54fb74a4c9957c0c7bef89748": {
          "model_module": "@jupyter-widgets/base",
          "model_name": "LayoutModel",
          "model_module_version": "1.2.0",
          "state": {
            "_model_module": "@jupyter-widgets/base",
            "_model_module_version": "1.2.0",
            "_model_name": "LayoutModel",
            "_view_count": null,
            "_view_module": "@jupyter-widgets/base",
            "_view_module_version": "1.2.0",
            "_view_name": "LayoutView",
            "align_content": null,
            "align_items": null,
            "align_self": null,
            "border": null,
            "bottom": null,
            "display": null,
            "flex": null,
            "flex_flow": null,
            "grid_area": null,
            "grid_auto_columns": null,
            "grid_auto_flow": null,
            "grid_auto_rows": null,
            "grid_column": null,
            "grid_gap": null,
            "grid_row": null,
            "grid_template_areas": null,
            "grid_template_columns": null,
            "grid_template_rows": null,
            "height": null,
            "justify_content": null,
            "justify_items": null,
            "left": null,
            "margin": null,
            "max_height": null,
            "max_width": null,
            "min_height": null,
            "min_width": null,
            "object_fit": null,
            "object_position": null,
            "order": null,
            "overflow": null,
            "overflow_x": null,
            "overflow_y": null,
            "padding": null,
            "right": null,
            "top": null,
            "visibility": null,
            "width": null
          }
        },
        "225233d6e6c243b8895c29c775c3460a": {
          "model_module": "@jupyter-widgets/controls",
          "model_name": "DescriptionStyleModel",
          "model_module_version": "1.5.0",
          "state": {
            "_model_module": "@jupyter-widgets/controls",
            "_model_module_version": "1.5.0",
            "_model_name": "DescriptionStyleModel",
            "_view_count": null,
            "_view_module": "@jupyter-widgets/base",
            "_view_module_version": "1.2.0",
            "_view_name": "StyleView",
            "description_width": ""
          }
        },
        "277b0a4393474cc4a85ee79fc3f36f1d": {
          "model_module": "@jupyter-widgets/controls",
          "model_name": "HBoxModel",
          "model_module_version": "1.5.0",
          "state": {
            "_dom_classes": [],
            "_model_module": "@jupyter-widgets/controls",
            "_model_module_version": "1.5.0",
            "_model_name": "HBoxModel",
            "_view_count": null,
            "_view_module": "@jupyter-widgets/controls",
            "_view_module_version": "1.5.0",
            "_view_name": "HBoxView",
            "box_style": "",
            "children": [
              "IPY_MODEL_cc2a05411c2946e987400a01a864b408",
              "IPY_MODEL_0c4579169fec40ef96fb32b424cd1b47",
              "IPY_MODEL_7aaa429c38ed43f6a358fda5c14aa563"
            ],
            "layout": "IPY_MODEL_d7b2a853227c4c6190078a847ce2d60e"
          }
        },
        "cc2a05411c2946e987400a01a864b408": {
          "model_module": "@jupyter-widgets/controls",
          "model_name": "HTMLModel",
          "model_module_version": "1.5.0",
          "state": {
            "_dom_classes": [],
            "_model_module": "@jupyter-widgets/controls",
            "_model_module_version": "1.5.0",
            "_model_name": "HTMLModel",
            "_view_count": null,
            "_view_module": "@jupyter-widgets/controls",
            "_view_module_version": "1.5.0",
            "_view_name": "HTMLView",
            "description": "",
            "description_tooltip": null,
            "layout": "IPY_MODEL_100f0045489846c0ac6c0b4b3c67462a",
            "placeholder": "​",
            "style": "IPY_MODEL_cfb86858ca9649eca43e432a7277d6b1",
            "value": "Creating parquet from Arrow format: 100%"
          }
        },
        "0c4579169fec40ef96fb32b424cd1b47": {
          "model_module": "@jupyter-widgets/controls",
          "model_name": "FloatProgressModel",
          "model_module_version": "1.5.0",
          "state": {
            "_dom_classes": [],
            "_model_module": "@jupyter-widgets/controls",
            "_model_module_version": "1.5.0",
            "_model_name": "FloatProgressModel",
            "_view_count": null,
            "_view_module": "@jupyter-widgets/controls",
            "_view_module_version": "1.5.0",
            "_view_name": "ProgressView",
            "bar_style": "success",
            "description": "",
            "description_tooltip": null,
            "layout": "IPY_MODEL_a8c026163a6f4f7a856c051a986a9016",
            "max": 1,
            "min": 0,
            "orientation": "horizontal",
            "style": "IPY_MODEL_a46a71bc010f49c7996b1fa399d15daa",
            "value": 1
          }
        },
        "7aaa429c38ed43f6a358fda5c14aa563": {
          "model_module": "@jupyter-widgets/controls",
          "model_name": "HTMLModel",
          "model_module_version": "1.5.0",
          "state": {
            "_dom_classes": [],
            "_model_module": "@jupyter-widgets/controls",
            "_model_module_version": "1.5.0",
            "_model_name": "HTMLModel",
            "_view_count": null,
            "_view_module": "@jupyter-widgets/controls",
            "_view_module_version": "1.5.0",
            "_view_name": "HTMLView",
            "description": "",
            "description_tooltip": null,
            "layout": "IPY_MODEL_2af765e6128f4d64b50e0dd17230b7b9",
            "placeholder": "​",
            "style": "IPY_MODEL_cb87fa64b4c64a32b3ca4a3b96846d35",
            "value": " 1/1 [00:00&lt;00:00, 32.13ba/s]"
          }
        },
        "d7b2a853227c4c6190078a847ce2d60e": {
          "model_module": "@jupyter-widgets/base",
          "model_name": "LayoutModel",
          "model_module_version": "1.2.0",
          "state": {
            "_model_module": "@jupyter-widgets/base",
            "_model_module_version": "1.2.0",
            "_model_name": "LayoutModel",
            "_view_count": null,
            "_view_module": "@jupyter-widgets/base",
            "_view_module_version": "1.2.0",
            "_view_name": "LayoutView",
            "align_content": null,
            "align_items": null,
            "align_self": null,
            "border": null,
            "bottom": null,
            "display": null,
            "flex": null,
            "flex_flow": null,
            "grid_area": null,
            "grid_auto_columns": null,
            "grid_auto_flow": null,
            "grid_auto_rows": null,
            "grid_column": null,
            "grid_gap": null,
            "grid_row": null,
            "grid_template_areas": null,
            "grid_template_columns": null,
            "grid_template_rows": null,
            "height": null,
            "justify_content": null,
            "justify_items": null,
            "left": null,
            "margin": null,
            "max_height": null,
            "max_width": null,
            "min_height": null,
            "min_width": null,
            "object_fit": null,
            "object_position": null,
            "order": null,
            "overflow": null,
            "overflow_x": null,
            "overflow_y": null,
            "padding": null,
            "right": null,
            "top": null,
            "visibility": null,
            "width": null
          }
        },
        "100f0045489846c0ac6c0b4b3c67462a": {
          "model_module": "@jupyter-widgets/base",
          "model_name": "LayoutModel",
          "model_module_version": "1.2.0",
          "state": {
            "_model_module": "@jupyter-widgets/base",
            "_model_module_version": "1.2.0",
            "_model_name": "LayoutModel",
            "_view_count": null,
            "_view_module": "@jupyter-widgets/base",
            "_view_module_version": "1.2.0",
            "_view_name": "LayoutView",
            "align_content": null,
            "align_items": null,
            "align_self": null,
            "border": null,
            "bottom": null,
            "display": null,
            "flex": null,
            "flex_flow": null,
            "grid_area": null,
            "grid_auto_columns": null,
            "grid_auto_flow": null,
            "grid_auto_rows": null,
            "grid_column": null,
            "grid_gap": null,
            "grid_row": null,
            "grid_template_areas": null,
            "grid_template_columns": null,
            "grid_template_rows": null,
            "height": null,
            "justify_content": null,
            "justify_items": null,
            "left": null,
            "margin": null,
            "max_height": null,
            "max_width": null,
            "min_height": null,
            "min_width": null,
            "object_fit": null,
            "object_position": null,
            "order": null,
            "overflow": null,
            "overflow_x": null,
            "overflow_y": null,
            "padding": null,
            "right": null,
            "top": null,
            "visibility": null,
            "width": null
          }
        },
        "cfb86858ca9649eca43e432a7277d6b1": {
          "model_module": "@jupyter-widgets/controls",
          "model_name": "DescriptionStyleModel",
          "model_module_version": "1.5.0",
          "state": {
            "_model_module": "@jupyter-widgets/controls",
            "_model_module_version": "1.5.0",
            "_model_name": "DescriptionStyleModel",
            "_view_count": null,
            "_view_module": "@jupyter-widgets/base",
            "_view_module_version": "1.2.0",
            "_view_name": "StyleView",
            "description_width": ""
          }
        },
        "a8c026163a6f4f7a856c051a986a9016": {
          "model_module": "@jupyter-widgets/base",
          "model_name": "LayoutModel",
          "model_module_version": "1.2.0",
          "state": {
            "_model_module": "@jupyter-widgets/base",
            "_model_module_version": "1.2.0",
            "_model_name": "LayoutModel",
            "_view_count": null,
            "_view_module": "@jupyter-widgets/base",
            "_view_module_version": "1.2.0",
            "_view_name": "LayoutView",
            "align_content": null,
            "align_items": null,
            "align_self": null,
            "border": null,
            "bottom": null,
            "display": null,
            "flex": null,
            "flex_flow": null,
            "grid_area": null,
            "grid_auto_columns": null,
            "grid_auto_flow": null,
            "grid_auto_rows": null,
            "grid_column": null,
            "grid_gap": null,
            "grid_row": null,
            "grid_template_areas": null,
            "grid_template_columns": null,
            "grid_template_rows": null,
            "height": null,
            "justify_content": null,
            "justify_items": null,
            "left": null,
            "margin": null,
            "max_height": null,
            "max_width": null,
            "min_height": null,
            "min_width": null,
            "object_fit": null,
            "object_position": null,
            "order": null,
            "overflow": null,
            "overflow_x": null,
            "overflow_y": null,
            "padding": null,
            "right": null,
            "top": null,
            "visibility": null,
            "width": null
          }
        },
        "a46a71bc010f49c7996b1fa399d15daa": {
          "model_module": "@jupyter-widgets/controls",
          "model_name": "ProgressStyleModel",
          "model_module_version": "1.5.0",
          "state": {
            "_model_module": "@jupyter-widgets/controls",
            "_model_module_version": "1.5.0",
            "_model_name": "ProgressStyleModel",
            "_view_count": null,
            "_view_module": "@jupyter-widgets/base",
            "_view_module_version": "1.2.0",
            "_view_name": "StyleView",
            "bar_color": null,
            "description_width": ""
          }
        },
        "2af765e6128f4d64b50e0dd17230b7b9": {
          "model_module": "@jupyter-widgets/base",
          "model_name": "LayoutModel",
          "model_module_version": "1.2.0",
          "state": {
            "_model_module": "@jupyter-widgets/base",
            "_model_module_version": "1.2.0",
            "_model_name": "LayoutModel",
            "_view_count": null,
            "_view_module": "@jupyter-widgets/base",
            "_view_module_version": "1.2.0",
            "_view_name": "LayoutView",
            "align_content": null,
            "align_items": null,
            "align_self": null,
            "border": null,
            "bottom": null,
            "display": null,
            "flex": null,
            "flex_flow": null,
            "grid_area": null,
            "grid_auto_columns": null,
            "grid_auto_flow": null,
            "grid_auto_rows": null,
            "grid_column": null,
            "grid_gap": null,
            "grid_row": null,
            "grid_template_areas": null,
            "grid_template_columns": null,
            "grid_template_rows": null,
            "height": null,
            "justify_content": null,
            "justify_items": null,
            "left": null,
            "margin": null,
            "max_height": null,
            "max_width": null,
            "min_height": null,
            "min_width": null,
            "object_fit": null,
            "object_position": null,
            "order": null,
            "overflow": null,
            "overflow_x": null,
            "overflow_y": null,
            "padding": null,
            "right": null,
            "top": null,
            "visibility": null,
            "width": null
          }
        },
        "cb87fa64b4c64a32b3ca4a3b96846d35": {
          "model_module": "@jupyter-widgets/controls",
          "model_name": "DescriptionStyleModel",
          "model_module_version": "1.5.0",
          "state": {
            "_model_module": "@jupyter-widgets/controls",
            "_model_module_version": "1.5.0",
            "_model_name": "DescriptionStyleModel",
            "_view_count": null,
            "_view_module": "@jupyter-widgets/base",
            "_view_module_version": "1.2.0",
            "_view_name": "StyleView",
            "description_width": ""
          }
        }
      }
    }
  },
  "cells": [
    {
      "cell_type": "markdown",
      "metadata": {
        "id": "view-in-github",
        "colab_type": "text"
      },
      "source": [
        "<a href=\"https://colab.research.google.com/github/mangeshb1/Gen_AI_And_NLP_Experiments/blob/main/Gen_AI_And_Chatbots/create_Question_Ans_Pair_Llama2_Format.ipynb\" target=\"_parent\"><img src=\"https://colab.research.google.com/assets/colab-badge.svg\" alt=\"Open In Colab\"/></a>"
      ]
    },
    {
      "cell_type": "code",
      "source": [
        "__author__ = \"Mangesh (MJ) B\"\n",
        "__copyright__ = \"Copyright (C) 2024 Mangesh Bhangare\"\n",
        "__version__ = \"1.0\""
      ],
      "metadata": {
        "id": "kREip1_nImgl"
      },
      "execution_count": null,
      "outputs": []
    },
    {
      "cell_type": "code",
      "execution_count": null,
      "metadata": {
        "id": "CAtT4V6zFu-5"
      },
      "outputs": [],
      "source": [
        "!pip install -q datasets\n",
        "!pip install -q pyspark"
      ]
    },
    {
      "cell_type": "code",
      "source": [
        "!huggingface-cli login"
      ],
      "metadata": {
        "colab": {
          "base_uri": "https://localhost:8080/"
        },
        "id": "T-ntEzd0If1q",
        "outputId": "31d0b5ce-7652-4196-b963-3312a41fd991"
      },
      "execution_count": null,
      "outputs": [
        {
          "output_type": "stream",
          "name": "stdout",
          "text": [
            "\n",
            "    _|    _|  _|    _|    _|_|_|    _|_|_|  _|_|_|  _|      _|    _|_|_|      _|_|_|_|    _|_|      _|_|_|  _|_|_|_|\n",
            "    _|    _|  _|    _|  _|        _|          _|    _|_|    _|  _|            _|        _|    _|  _|        _|\n",
            "    _|_|_|_|  _|    _|  _|  _|_|  _|  _|_|    _|    _|  _|  _|  _|  _|_|      _|_|_|    _|_|_|_|  _|        _|_|_|\n",
            "    _|    _|  _|    _|  _|    _|  _|    _|    _|    _|    _|_|  _|    _|      _|        _|    _|  _|        _|\n",
            "    _|    _|    _|_|      _|_|_|    _|_|_|  _|_|_|  _|      _|    _|_|_|      _|        _|    _|    _|_|_|  _|_|_|_|\n",
            "\n",
            "    A token is already saved on your machine. Run `huggingface-cli whoami` to get more information or `huggingface-cli logout` if you want to log out.\n",
            "    Setting a new token will erase the existing one.\n",
            "    To login, `huggingface_hub` requires a token generated from https://huggingface.co/settings/tokens .\n",
            "Token: \n",
            "Add token as git credential? (Y/n) n\n",
            "Token is valid (permission: write).\n",
            "Your token has been saved to /root/.cache/huggingface/token\n",
            "Login successful\n"
          ]
        }
      ]
    },
    {
      "cell_type": "code",
      "source": [
        "## This import is needed sometimes in colab due to UTF8 format error\n",
        "# import locale\n",
        "# locale.getpreferredencoding = lambda: \"UTF-8\"\n",
        "#####################################\n",
        "#                                   #\n",
        "#  Set Data                         #\n",
        "#                                   #\n",
        "#####################################\n",
        "\n",
        "!mkdir csvs\n",
        "!gdown 15cDyHNRknjr4u9xyVd0ZKDIMFO-7iFSW -O csvs/mangesh_Q_and_A_Pairs_GPT.csv"
      ],
      "metadata": {
        "colab": {
          "base_uri": "https://localhost:8080/"
        },
        "id": "PaPOvUs6JYGT",
        "outputId": "ba5f76a6-7327-4804-b1c1-f3ab08851c8b"
      },
      "execution_count": null,
      "outputs": [
        {
          "output_type": "stream",
          "name": "stdout",
          "text": [
            "mkdir: cannot create directory ‘csvs’: File exists\n",
            "Downloading...\n",
            "From: https://drive.google.com/uc?id=15cDyHNRknjr4u9xyVd0ZKDIMFO-7iFSW\n",
            "To: /content/csvs/mangesh_Q_and_A_Pairs_GPT.csv\n",
            "100% 25.6k/25.6k [00:00<00:00, 57.2MB/s]\n"
          ]
        }
      ]
    },
    {
      "cell_type": "code",
      "source": [
        "from pyspark.sql import SparkSession\n",
        "from pyspark.sql import functions as F\n",
        "\n",
        "# Create a Spark session\n",
        "spark = SparkSession.builder.appName(\"CSVtoDataFrame\").getOrCreate()\n",
        "\n",
        "# Read the CSV file into a DataFrame\n",
        "csv_file_path = \"/content/csvs/mangesh_Q_and_A_Pairs_GPT.csv\"\n",
        "raw_df = spark.read.csv(csv_file_path, header=False, inferSchema=True)\n",
        "\n",
        "print(raw_df.show(5))\n",
        "\n",
        "# Add an index column to each row\n",
        "raw_df = raw_df.withColumn(\"id\", F.monotonically_increasing_id())\n",
        "\n",
        "# Create DataFrames for questions and answers\n",
        "questions_df = raw_df.filter(F.col(\"id\") % 2 == 0).select(F.col(\"_c0\").alias(\"question\"), \"id\")\n",
        "answers_df = raw_df.filter(F.col(\"id\") % 2 == 1).select(F.col(\"_c0\").alias(\"answer\"), \"id\")\n",
        "\n",
        "# Add a new column for pairing questions and answers\n",
        "questions_df = questions_df.withColumn(\"pair_id\", (questions_df.id / 2).cast(\"integer\"))\n",
        "answers_df = answers_df.withColumn(\"pair_id\", (answers_df.id / 2).cast(\"integer\"))\n",
        "\n",
        "# Join questions and answers DataFrames on the pair_id column\n",
        "result_df = questions_df.join(answers_df, \"pair_id\").drop(\"pair_id\", \"id\")\n",
        "\n",
        "# Display the result\n",
        "result_df.show(truncate=False)\n"
      ],
      "metadata": {
        "colab": {
          "base_uri": "https://localhost:8080/"
        },
        "id": "EIcBpNQ4KLzc",
        "outputId": "941564b5-1596-408f-a092-927b832e7419"
      },
      "execution_count": null,
      "outputs": [
        {
          "output_type": "stream",
          "name": "stdout",
          "text": [
            "+--------------------+\n",
            "|                 _c0|\n",
            "+--------------------+\n",
            "|Who is Mangesh Bh...|\n",
            "|Mangesh Bhangare ...|\n",
            "|When was the info...|\n",
            "|The information w...|\n",
            "|Where can one fin...|\n",
            "+--------------------+\n",
            "only showing top 5 rows\n",
            "\n",
            "None\n",
            "+---------------------------------------------------------------------------------------------+--------------------------------------------------------------------------------------------------------------------------------------------------------------------------------------------------------------------------------------------------------------------------------------------------------------------------------------------------------------------------------------------+\n",
            "|question                                                                                     |answer                                                                                                                                                                                                                                                                                                                                                                                      |\n",
            "+---------------------------------------------------------------------------------------------+--------------------------------------------------------------------------------------------------------------------------------------------------------------------------------------------------------------------------------------------------------------------------------------------------------------------------------------------------------------------------------------------+\n",
            "|Who is Mangesh Bhangare?                                                                     |Mangesh Bhangare is the Director of Data Science and AI at the Bank of Montreal (BMO) and former Director of Data Science and Engineering at the Royal Bank of Canada (RBC).                                                                                                                                                                                                                |\n",
            "|When was the information last updated?                                                       |The information was last updated on Feb 11th, 2024.                                                                                                                                                                                                                                                                                                                                         |\n",
            "|Where can one find the most up-to-date information about Mangesh Bhangare?                   |The most up-to-date information can be found on mangesh.ca or by searching Mangesh Bhangare on LinkedIn.                                                                                                                                                                                                                                                                                    |\n",
            "|What is Mangesh Bhangare's current role at BMO?                                              |Mangesh Bhangare is currently the Director of Data Science and AI at BMO, leading the Enterprise Data Science and AI team.                                                                                                                                                                                                                                                                  |\n",
            "|How many years of professional experience does Mangesh Bhangare have?                        |Mangesh Bhangare has 9+ years of professional experience.                                                                                                                                                                                                                                                                                                                                   |\n",
            "|What is Mangesh Bhangare's skill set?                                                        |Mangesh Bhangare's skill set includes languages such as Python, R, SAS, Java, and SQL, along with expertise in Apache PySpark, ScikitLearn, Pandas, NumPy, Google Tensorflow, H2O, MLFlow, and Palantir Foundry.                                                                                                                                                                            |\n",
            "|What are the domains Mangesh Bhangare has experience in?                                     |Mangesh Bhangare has experience in Marketing Science, HR/People Analytics, Fraud Analytics, Cyber Security, Climate Analytics, Audit/Compliance, Text Analytics, and Customer Analytics.                                                                                                                                                                                                    |\n",
            "|What are some of Mangesh Bhangare's modeling experiences and primary use cases?              |Mangesh Bhangare has experience in Next best Action/Offer, scenario simulation, optimization and recommendation for offers & products, loyalty and frustration modeling, NLP/NLU models, segmentation, new acquisition, upsell, long-term expected value calculation, lift modeling, client journey mapping, price sensitivity, churn modeling, and MLOps.                                  |\n",
            "|Which programming language is Mangesh Bhangare's favorite and most commonly used in his team?|Python is the favorite and most commonly used programming language in Mangesh Bhangare's team.                                                                                                                                                                                                                                                                                              |\n",
            "|What is the main technology stack used by Mangesh Bhangare's team?                           |PySpark is the main core/computer engine combined with other common Python-based ML libraries in Mangesh Bhangare's team.                                                                                                                                                                                                                                                                   |\n",
            "|What does Mangesh Bhangare's current role involve?                                           |Mangesh Bhangare spends 80% of his time leading different Machine Learning/Data Science/AI projects and 20% of his time is spent on architecting/designing MLOps systems.                                                                                                                                                                                                                   |\n",
            "|Can Mangesh Bhangare be contacted, and how?                                                  |Yes, Mangesh Bhangare can be contacted through LinkedIn. His LinkedIn profile is https://www.linkedin.com/in/mangeshb1/.                                                                                                                                                                                                                                                                    |\n",
            "|What is the goal of Mangesh Bhangare's website?                                              |The goal of Mangesh Bhangare's website is to showcase his projects, experiences, and interests.                                                                                                                                                                                                                                                                                             |\n",
            "|What are some career highlights at Bank of Montreal (BMO) for Mangesh Bhangare?              |Mangesh Bhangare currently leads the Enterprise Data Science and AI team at BMO, enabling strategic priorities and providing progressive data capabilities.                                                                                                                                                                                                                                 |\n",
            "|In which roles did Mangesh Bhangare lead teams at Royal Bank of Canada (RBC)?                |Mangesh Bhangare led teams such as Enterprise AI Services and Capability, Enterprise MLOps, Machine Learning Feature Engineering, ML Solutions Engineering, Client Sentiment/Loyalty, and ML modeling for Cards, Payments, and Banking at RBC.                                                                                                                                              |\n",
            "|What volunteer positions has Mangesh Bhangare held in the past and present?                  |Mangesh Bhangare has been a part of the Technology & Operation DEI Council and Working Group at BMO, a Data Science Mentor in the RBC Amplify Program, and a Mentor at the Toronto Region Immigrant Employment Council (TRIEC).                                                                                                                                                             |\n",
            "|Where did Mangesh Bhangare earn his Master of Science (MS) degree?                           |Mangesh Bhangare earned his Master of Science (MS) in Computer Science with a specialization in Machine Learning and Big Data from Simon Fraser University, British Columbia, Canada.                                                                                                                                                                                                       |\n",
            "|What are some project highlights from Mangesh Bhangare's professional career at RBC and BMO? |Project highlights include a Simulation-Based Credit Card Recommendation Engine, a BERT-based NLP/NLU model for identifying client frustration, Channel Optimization Model, Call Center Optimization Model, Tele Marketing Model, Marketing Model, Anomaly Detection Models, AutoEncoder-Based Anomaly Detection/Rare Event Prediction Model, AutoEncoder-Based Feature Reduction, and more.|\n",
            "|What is Mangesh Bhangare's involvement in DEI (Diversity, Equity, and Inclusion) initiatives?|Mangesh Bhangare has been part of the Technology & Operation DEI Council and Working Group at BMO, showcasing dedication to building inclusive and diverse environments.                                                                                                                                                                                                                    |\n",
            "|How can someone become a mentor, according to Mangesh Bhangare?                              |According to Mangesh Bhangare, mentors are leaders who give back to their professional communities, coaching people to achieve their full potential. Giving 18 hours of time over three months could help change someone's life.                                                                                                                                                            |\n",
            "+---------------------------------------------------------------------------------------------+--------------------------------------------------------------------------------------------------------------------------------------------------------------------------------------------------------------------------------------------------------------------------------------------------------------------------------------------------------------------------------------------+\n",
            "only showing top 20 rows\n",
            "\n"
          ]
        }
      ]
    },
    {
      "cell_type": "code",
      "source": [
        "# Assuming result_df is your DataFrame from the previous steps\n",
        "result_df = result_df.withColumn(\"Llama2_Format\", F.concat(F.lit('<s>[INST] '), result_df.question, F.lit(' [/INST] '), result_df.answer, F.lit('</s>')))\n",
        "\n",
        "# Display the updated DataFrame\n",
        "result_df.show(truncate=False)"
      ],
      "metadata": {
        "colab": {
          "base_uri": "https://localhost:8080/"
        },
        "id": "vx3stg5RKh6-",
        "outputId": "d6ffbad2-f355-480d-944f-01472c1b75ac"
      },
      "execution_count": null,
      "outputs": [
        {
          "output_type": "stream",
          "name": "stdout",
          "text": [
            "+---------------------------------------------------------------------------------------------+--------------------------------------------------------------------------------------------------------------------------------------------------------------------------------------------------------------------------------------------------------------------------------------------------------------------------------------------------------------------------------------------+---------------------------------------------------------------------------------------------------------------------------------------------------------------------------------------------------------------------------------------------------------------------------------------------------------------------------------------------------------------------------------------------------------------------------------------------------------------------------------------------------------------+\n",
            "|question                                                                                     |answer                                                                                                                                                                                                                                                                                                                                                                                      |Llama2_Format                                                                                                                                                                                                                                                                                                                                                                                                                                                                                                  |\n",
            "+---------------------------------------------------------------------------------------------+--------------------------------------------------------------------------------------------------------------------------------------------------------------------------------------------------------------------------------------------------------------------------------------------------------------------------------------------------------------------------------------------+---------------------------------------------------------------------------------------------------------------------------------------------------------------------------------------------------------------------------------------------------------------------------------------------------------------------------------------------------------------------------------------------------------------------------------------------------------------------------------------------------------------+\n",
            "|Who is Mangesh Bhangare?                                                                     |Mangesh Bhangare is the Director of Data Science and AI at the Bank of Montreal (BMO) and former Director of Data Science and Engineering at the Royal Bank of Canada (RBC).                                                                                                                                                                                                                |<s>[INST] Who is Mangesh Bhangare? [/INST] Mangesh Bhangare is the Director of Data Science and AI at the Bank of Montreal (BMO) and former Director of Data Science and Engineering at the Royal Bank of Canada (RBC).</s>                                                                                                                                                                                                                                                                                    |\n",
            "|When was the information last updated?                                                       |The information was last updated on Feb 11th, 2024.                                                                                                                                                                                                                                                                                                                                         |<s>[INST] When was the information last updated? [/INST] The information was last updated on Feb 11th, 2024.</s>                                                                                                                                                                                                                                                                                                                                                                                               |\n",
            "|Where can one find the most up-to-date information about Mangesh Bhangare?                   |The most up-to-date information can be found on mangesh.ca or by searching Mangesh Bhangare on LinkedIn.                                                                                                                                                                                                                                                                                    |<s>[INST] Where can one find the most up-to-date information about Mangesh Bhangare? [/INST] The most up-to-date information can be found on mangesh.ca or by searching Mangesh Bhangare on LinkedIn.</s>                                                                                                                                                                                                                                                                                                      |\n",
            "|What is Mangesh Bhangare's current role at BMO?                                              |Mangesh Bhangare is currently the Director of Data Science and AI at BMO, leading the Enterprise Data Science and AI team.                                                                                                                                                                                                                                                                  |<s>[INST] What is Mangesh Bhangare's current role at BMO? [/INST] Mangesh Bhangare is currently the Director of Data Science and AI at BMO, leading the Enterprise Data Science and AI team.</s>                                                                                                                                                                                                                                                                                                               |\n",
            "|How many years of professional experience does Mangesh Bhangare have?                        |Mangesh Bhangare has 9+ years of professional experience.                                                                                                                                                                                                                                                                                                                                   |<s>[INST] How many years of professional experience does Mangesh Bhangare have? [/INST] Mangesh Bhangare has 9+ years of professional experience.</s>                                                                                                                                                                                                                                                                                                                                                          |\n",
            "|What is Mangesh Bhangare's skill set?                                                        |Mangesh Bhangare's skill set includes languages such as Python, R, SAS, Java, and SQL, along with expertise in Apache PySpark, ScikitLearn, Pandas, NumPy, Google Tensorflow, H2O, MLFlow, and Palantir Foundry.                                                                                                                                                                            |<s>[INST] What is Mangesh Bhangare's skill set? [/INST] Mangesh Bhangare's skill set includes languages such as Python, R, SAS, Java, and SQL, along with expertise in Apache PySpark, ScikitLearn, Pandas, NumPy, Google Tensorflow, H2O, MLFlow, and Palantir Foundry.</s>                                                                                                                                                                                                                                   |\n",
            "|What are the domains Mangesh Bhangare has experience in?                                     |Mangesh Bhangare has experience in Marketing Science, HR/People Analytics, Fraud Analytics, Cyber Security, Climate Analytics, Audit/Compliance, Text Analytics, and Customer Analytics.                                                                                                                                                                                                    |<s>[INST] What are the domains Mangesh Bhangare has experience in? [/INST] Mangesh Bhangare has experience in Marketing Science, HR/People Analytics, Fraud Analytics, Cyber Security, Climate Analytics, Audit/Compliance, Text Analytics, and Customer Analytics.</s>                                                                                                                                                                                                                                        |\n",
            "|What are some of Mangesh Bhangare's modeling experiences and primary use cases?              |Mangesh Bhangare has experience in Next best Action/Offer, scenario simulation, optimization and recommendation for offers & products, loyalty and frustration modeling, NLP/NLU models, segmentation, new acquisition, upsell, long-term expected value calculation, lift modeling, client journey mapping, price sensitivity, churn modeling, and MLOps.                                  |<s>[INST] What are some of Mangesh Bhangare's modeling experiences and primary use cases? [/INST] Mangesh Bhangare has experience in Next best Action/Offer, scenario simulation, optimization and recommendation for offers & products, loyalty and frustration modeling, NLP/NLU models, segmentation, new acquisition, upsell, long-term expected value calculation, lift modeling, client journey mapping, price sensitivity, churn modeling, and MLOps.</s>                                               |\n",
            "|Which programming language is Mangesh Bhangare's favorite and most commonly used in his team?|Python is the favorite and most commonly used programming language in Mangesh Bhangare's team.                                                                                                                                                                                                                                                                                              |<s>[INST] Which programming language is Mangesh Bhangare's favorite and most commonly used in his team? [/INST] Python is the favorite and most commonly used programming language in Mangesh Bhangare's team.</s>                                                                                                                                                                                                                                                                                             |\n",
            "|What is the main technology stack used by Mangesh Bhangare's team?                           |PySpark is the main core/computer engine combined with other common Python-based ML libraries in Mangesh Bhangare's team.                                                                                                                                                                                                                                                                   |<s>[INST] What is the main technology stack used by Mangesh Bhangare's team? [/INST] PySpark is the main core/computer engine combined with other common Python-based ML libraries in Mangesh Bhangare's team.</s>                                                                                                                                                                                                                                                                                             |\n",
            "|What does Mangesh Bhangare's current role involve?                                           |Mangesh Bhangare spends 80% of his time leading different Machine Learning/Data Science/AI projects and 20% of his time is spent on architecting/designing MLOps systems.                                                                                                                                                                                                                   |<s>[INST] What does Mangesh Bhangare's current role involve? [/INST] Mangesh Bhangare spends 80% of his time leading different Machine Learning/Data Science/AI projects and 20% of his time is spent on architecting/designing MLOps systems.</s>                                                                                                                                                                                                                                                             |\n",
            "|Can Mangesh Bhangare be contacted, and how?                                                  |Yes, Mangesh Bhangare can be contacted through LinkedIn. His LinkedIn profile is https://www.linkedin.com/in/mangeshb1/.                                                                                                                                                                                                                                                                    |<s>[INST] Can Mangesh Bhangare be contacted, and how? [/INST] Yes, Mangesh Bhangare can be contacted through LinkedIn. His LinkedIn profile is https://www.linkedin.com/in/mangeshb1/.</s>                                                                                                                                                                                                                                                                                                                     |\n",
            "|What is the goal of Mangesh Bhangare's website?                                              |The goal of Mangesh Bhangare's website is to showcase his projects, experiences, and interests.                                                                                                                                                                                                                                                                                             |<s>[INST] What is the goal of Mangesh Bhangare's website? [/INST] The goal of Mangesh Bhangare's website is to showcase his projects, experiences, and interests.</s>                                                                                                                                                                                                                                                                                                                                          |\n",
            "|What are some career highlights at Bank of Montreal (BMO) for Mangesh Bhangare?              |Mangesh Bhangare currently leads the Enterprise Data Science and AI team at BMO, enabling strategic priorities and providing progressive data capabilities.                                                                                                                                                                                                                                 |<s>[INST] What are some career highlights at Bank of Montreal (BMO) for Mangesh Bhangare? [/INST] Mangesh Bhangare currently leads the Enterprise Data Science and AI team at BMO, enabling strategic priorities and providing progressive data capabilities.</s>                                                                                                                                                                                                                                              |\n",
            "|In which roles did Mangesh Bhangare lead teams at Royal Bank of Canada (RBC)?                |Mangesh Bhangare led teams such as Enterprise AI Services and Capability, Enterprise MLOps, Machine Learning Feature Engineering, ML Solutions Engineering, Client Sentiment/Loyalty, and ML modeling for Cards, Payments, and Banking at RBC.                                                                                                                                              |<s>[INST] In which roles did Mangesh Bhangare lead teams at Royal Bank of Canada (RBC)? [/INST] Mangesh Bhangare led teams such as Enterprise AI Services and Capability, Enterprise MLOps, Machine Learning Feature Engineering, ML Solutions Engineering, Client Sentiment/Loyalty, and ML modeling for Cards, Payments, and Banking at RBC.</s>                                                                                                                                                             |\n",
            "|What volunteer positions has Mangesh Bhangare held in the past and present?                  |Mangesh Bhangare has been a part of the Technology & Operation DEI Council and Working Group at BMO, a Data Science Mentor in the RBC Amplify Program, and a Mentor at the Toronto Region Immigrant Employment Council (TRIEC).                                                                                                                                                             |<s>[INST] What volunteer positions has Mangesh Bhangare held in the past and present? [/INST] Mangesh Bhangare has been a part of the Technology & Operation DEI Council and Working Group at BMO, a Data Science Mentor in the RBC Amplify Program, and a Mentor at the Toronto Region Immigrant Employment Council (TRIEC).</s>                                                                                                                                                                              |\n",
            "|Where did Mangesh Bhangare earn his Master of Science (MS) degree?                           |Mangesh Bhangare earned his Master of Science (MS) in Computer Science with a specialization in Machine Learning and Big Data from Simon Fraser University, British Columbia, Canada.                                                                                                                                                                                                       |<s>[INST] Where did Mangesh Bhangare earn his Master of Science (MS) degree? [/INST] Mangesh Bhangare earned his Master of Science (MS) in Computer Science with a specialization in Machine Learning and Big Data from Simon Fraser University, British Columbia, Canada.</s>                                                                                                                                                                                                                                 |\n",
            "|What are some project highlights from Mangesh Bhangare's professional career at RBC and BMO? |Project highlights include a Simulation-Based Credit Card Recommendation Engine, a BERT-based NLP/NLU model for identifying client frustration, Channel Optimization Model, Call Center Optimization Model, Tele Marketing Model, Marketing Model, Anomaly Detection Models, AutoEncoder-Based Anomaly Detection/Rare Event Prediction Model, AutoEncoder-Based Feature Reduction, and more.|<s>[INST] What are some project highlights from Mangesh Bhangare's professional career at RBC and BMO? [/INST] Project highlights include a Simulation-Based Credit Card Recommendation Engine, a BERT-based NLP/NLU model for identifying client frustration, Channel Optimization Model, Call Center Optimization Model, Tele Marketing Model, Marketing Model, Anomaly Detection Models, AutoEncoder-Based Anomaly Detection/Rare Event Prediction Model, AutoEncoder-Based Feature Reduction, and more.</s>|\n",
            "|What is Mangesh Bhangare's involvement in DEI (Diversity, Equity, and Inclusion) initiatives?|Mangesh Bhangare has been part of the Technology & Operation DEI Council and Working Group at BMO, showcasing dedication to building inclusive and diverse environments.                                                                                                                                                                                                                    |<s>[INST] What is Mangesh Bhangare's involvement in DEI (Diversity, Equity, and Inclusion) initiatives? [/INST] Mangesh Bhangare has been part of the Technology & Operation DEI Council and Working Group at BMO, showcasing dedication to building inclusive and diverse environments.</s>                                                                                                                                                                                                                   |\n",
            "|How can someone become a mentor, according to Mangesh Bhangare?                              |According to Mangesh Bhangare, mentors are leaders who give back to their professional communities, coaching people to achieve their full potential. Giving 18 hours of time over three months could help change someone's life.                                                                                                                                                            |<s>[INST] How can someone become a mentor, according to Mangesh Bhangare? [/INST] According to Mangesh Bhangare, mentors are leaders who give back to their professional communities, coaching people to achieve their full potential. Giving 18 hours of time over three months could help change someone's life.</s>                                                                                                                                                                                         |\n",
            "+---------------------------------------------------------------------------------------------+--------------------------------------------------------------------------------------------------------------------------------------------------------------------------------------------------------------------------------------------------------------------------------------------------------------------------------------------------------------------------------------------+---------------------------------------------------------------------------------------------------------------------------------------------------------------------------------------------------------------------------------------------------------------------------------------------------------------------------------------------------------------------------------------------------------------------------------------------------------------------------------------------------------------+\n",
            "only showing top 20 rows\n",
            "\n"
          ]
        }
      ]
    },
    {
      "cell_type": "code",
      "source": [
        "final_df = result_df.select(\"Llama2_Format\")"
      ],
      "metadata": {
        "id": "7qH7Ce85OTZE"
      },
      "execution_count": null,
      "outputs": []
    },
    {
      "cell_type": "code",
      "source": [
        "final_df.show(10,False)"
      ],
      "metadata": {
        "colab": {
          "base_uri": "https://localhost:8080/"
        },
        "id": "AOQm_96GOPAR",
        "outputId": "22d7f9b6-57a7-4c13-953a-ada57ff27a81"
      },
      "execution_count": null,
      "outputs": [
        {
          "output_type": "stream",
          "name": "stdout",
          "text": [
            "+----------------------------------------------------------------------------------------------------------------------------------------------------------------------------------------------------------------------------------------------------------------------------------------------------------------------------------------------------------------------------------------------------------------------------------------------------------------+\n",
            "|Llama2_Format                                                                                                                                                                                                                                                                                                                                                                                                                                                   |\n",
            "+----------------------------------------------------------------------------------------------------------------------------------------------------------------------------------------------------------------------------------------------------------------------------------------------------------------------------------------------------------------------------------------------------------------------------------------------------------------+\n",
            "|<s>[INST] Who is Mangesh Bhangare? [/INST] Mangesh Bhangare is the Director of Data Science and AI at the Bank of Montreal (BMO) and former Director of Data Science and Engineering at the Royal Bank of Canada (RBC).</s>                                                                                                                                                                                                                                     |\n",
            "|<s>[INST] When was the information last updated? [/INST] The information was last updated on Feb 11th, 2024.</s>                                                                                                                                                                                                                                                                                                                                                |\n",
            "|<s>[INST] Where can one find the most up-to-date information about Mangesh Bhangare? [/INST] The most up-to-date information can be found on mangesh.ca or by searching Mangesh Bhangare on LinkedIn.</s>                                                                                                                                                                                                                                                       |\n",
            "|<s>[INST] What is Mangesh Bhangare's current role at BMO? [/INST] Mangesh Bhangare is currently the Director of Data Science and AI at BMO, leading the Enterprise Data Science and AI team.</s>                                                                                                                                                                                                                                                                |\n",
            "|<s>[INST] How many years of professional experience does Mangesh Bhangare have? [/INST] Mangesh Bhangare has 9+ years of professional experience.</s>                                                                                                                                                                                                                                                                                                           |\n",
            "|<s>[INST] What is Mangesh Bhangare's skill set? [/INST] Mangesh Bhangare's skill set includes languages such as Python, R, SAS, Java, and SQL, along with expertise in Apache PySpark, ScikitLearn, Pandas, NumPy, Google Tensorflow, H2O, MLFlow, and Palantir Foundry.</s>                                                                                                                                                                                    |\n",
            "|<s>[INST] What are the domains Mangesh Bhangare has experience in? [/INST] Mangesh Bhangare has experience in Marketing Science, HR/People Analytics, Fraud Analytics, Cyber Security, Climate Analytics, Audit/Compliance, Text Analytics, and Customer Analytics.</s>                                                                                                                                                                                         |\n",
            "|<s>[INST] What are some of Mangesh Bhangare's modeling experiences and primary use cases? [/INST] Mangesh Bhangare has experience in Next best Action/Offer, scenario simulation, optimization and recommendation for offers & products, loyalty and frustration modeling, NLP/NLU models, segmentation, new acquisition, upsell, long-term expected value calculation, lift modeling, client journey mapping, price sensitivity, churn modeling, and MLOps.</s>|\n",
            "|<s>[INST] Which programming language is Mangesh Bhangare's favorite and most commonly used in his team? [/INST] Python is the favorite and most commonly used programming language in Mangesh Bhangare's team.</s>                                                                                                                                                                                                                                              |\n",
            "|<s>[INST] What is the main technology stack used by Mangesh Bhangare's team? [/INST] PySpark is the main core/computer engine combined with other common Python-based ML libraries in Mangesh Bhangare's team.</s>                                                                                                                                                                                                                                              |\n",
            "+----------------------------------------------------------------------------------------------------------------------------------------------------------------------------------------------------------------------------------------------------------------------------------------------------------------------------------------------------------------------------------------------------------------------------------------------------------------+\n",
            "only showing top 10 rows\n",
            "\n"
          ]
        }
      ]
    },
    {
      "cell_type": "code",
      "source": [
        "# If getting Following error try <lambda>() takes 0 positional arguments but 1 was given\n",
        "# !pip install multiprocess\n",
        "# %reset"
      ],
      "metadata": {
        "id": "E6UodwUBPh7a"
      },
      "execution_count": null,
      "outputs": []
    },
    {
      "cell_type": "code",
      "source": [
        "from datasets import Dataset\n",
        "\n",
        "final_df_pd = final_df.toPandas()\n",
        "# Convert Pandas DataFrame to Hugging Face Dataset\n",
        "huggingface_dataset = Dataset.from_pandas(final_df_pd)\n",
        "\n",
        "# Display the Hugging Face Dataset\n",
        "print(huggingface_dataset)"
      ],
      "metadata": {
        "colab": {
          "base_uri": "https://localhost:8080/"
        },
        "id": "LB05f-pkOeFg",
        "outputId": "0dce6e4b-b528-47f6-a1c3-90d84f7b06c7"
      },
      "execution_count": null,
      "outputs": [
        {
          "output_type": "stream",
          "name": "stdout",
          "text": [
            "Dataset({\n",
            "    features: ['Llama2_Format'],\n",
            "    num_rows: 99\n",
            "})\n"
          ]
        }
      ]
    },
    {
      "cell_type": "code",
      "source": [
        "huggingface_dataset.push_to_hub(\"theLeaf1/mangesh_99_Llama2_Format\")"
      ],
      "metadata": {
        "colab": {
          "base_uri": "https://localhost:8080/",
          "height": 257,
          "referenced_widgets": [
            "a0664d4764554afaa186c000a7da5970",
            "abddb43fdc0248db838329129e6e63fa",
            "6846d7d5d29446778a915bdb9e753fec",
            "00962d1b5c334a3cbf2e0cbbc781796d",
            "0ac01e09ba364a5fbae98f038d244710",
            "5356ac9d600049ff97f0218577b6c835",
            "477d0809f93643e4b0f41374d56d179e",
            "0b0962cc2d304c48b5c38e7eaa5fd827",
            "0a4600b66fc34cf39de6c5ae9498e5f7",
            "21f64ea54fb74a4c9957c0c7bef89748",
            "225233d6e6c243b8895c29c775c3460a",
            "277b0a4393474cc4a85ee79fc3f36f1d",
            "cc2a05411c2946e987400a01a864b408",
            "0c4579169fec40ef96fb32b424cd1b47",
            "7aaa429c38ed43f6a358fda5c14aa563",
            "d7b2a853227c4c6190078a847ce2d60e",
            "100f0045489846c0ac6c0b4b3c67462a",
            "cfb86858ca9649eca43e432a7277d6b1",
            "a8c026163a6f4f7a856c051a986a9016",
            "a46a71bc010f49c7996b1fa399d15daa",
            "2af765e6128f4d64b50e0dd17230b7b9",
            "cb87fa64b4c64a32b3ca4a3b96846d35"
          ]
        },
        "id": "pCJx8Q5fPdbE",
        "outputId": "a2bda700-c23d-4f89-f1da-f89d9b190169"
      },
      "execution_count": null,
      "outputs": [
        {
          "output_type": "stream",
          "name": "stderr",
          "text": [
            "/usr/local/lib/python3.10/dist-packages/huggingface_hub/utils/_token.py:88: UserWarning: \n",
            "The secret `HF_TOKEN` does not exist in your Colab secrets.\n",
            "To authenticate with the Hugging Face Hub, create a token in your settings tab (https://huggingface.co/settings/tokens), set it as secret in your Google Colab and restart your session.\n",
            "You will be able to reuse this secret in all of your notebooks.\n",
            "Please note that authentication is recommended but still optional to access public models or datasets.\n",
            "  warnings.warn(\n"
          ]
        },
        {
          "output_type": "display_data",
          "data": {
            "text/plain": [
              "Uploading the dataset shards:   0%|          | 0/1 [00:00<?, ?it/s]"
            ],
            "application/vnd.jupyter.widget-view+json": {
              "version_major": 2,
              "version_minor": 0,
              "model_id": "a0664d4764554afaa186c000a7da5970"
            }
          },
          "metadata": {}
        },
        {
          "output_type": "display_data",
          "data": {
            "text/plain": [
              "Creating parquet from Arrow format:   0%|          | 0/1 [00:00<?, ?ba/s]"
            ],
            "application/vnd.jupyter.widget-view+json": {
              "version_major": 2,
              "version_minor": 0,
              "model_id": "277b0a4393474cc4a85ee79fc3f36f1d"
            }
          },
          "metadata": {}
        },
        {
          "output_type": "execute_result",
          "data": {
            "text/plain": [
              "CommitInfo(commit_url='https://huggingface.co/datasets/theLeaf1/mangesh_99_Llama2_Format/commit/0c99ebb1605aee10f7f849f564fa01115a4aae53', commit_message='Upload dataset', commit_description='', oid='0c99ebb1605aee10f7f849f564fa01115a4aae53', pr_url=None, pr_revision=None, pr_num=None)"
            ],
            "application/vnd.google.colaboratory.intrinsic+json": {
              "type": "string"
            }
          },
          "metadata": {},
          "execution_count": 12
        }
      ]
    },
    {
      "cell_type": "code",
      "source": [],
      "metadata": {
        "id": "4A1DWFgsRUu0"
      },
      "execution_count": null,
      "outputs": []
    }
  ]
}